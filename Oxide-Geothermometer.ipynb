{
 "cells": [
  {
   "cell_type": "markdown",
   "metadata": {},
   "source": [
    "#  Fe-Ti oxide geothermobarometer\n",
    "## Constructed based on Fe-Ti exchange for oxide pairs, using the methodology of Ghiorso and Evans (2008)"
   ]
  },
  {
   "cell_type": "markdown",
   "metadata": {},
   "source": [
    "Required Python code to load the phase library ..."
   ]
  },
  {
   "cell_type": "code",
   "execution_count": null,
   "metadata": {},
   "outputs": [],
   "source": [
    "import numpy as np\n",
    "from scipy import optimize as optim\n",
    "import thermoengine as thermo"
   ]
  },
  {
   "cell_type": "markdown",
   "metadata": {},
   "source": [
    "### Get access to a thermodynamic database (by default, the Berman (1988)/MELTS database)."
   ]
  },
  {
   "cell_type": "code",
   "execution_count": null,
   "metadata": {},
   "outputs": [],
   "source": [
    "modelDB = thermo.model.Database()"
   ]
  },
  {
   "cell_type": "markdown",
   "metadata": {},
   "source": [
    "### Create a Python reference to the Spinel (\"Mag\") and Rhombehedral oxide (\"Ilm\") solution phase class."
   ]
  },
  {
   "cell_type": "code",
   "execution_count": null,
   "metadata": {},
   "outputs": [],
   "source": [
    "Mag = modelDB.get_phase('SplS')\n",
    "Ilm = modelDB.get_phase('Rhom')"
   ]
  },
  {
   "cell_type": "markdown",
   "metadata": {},
   "source": [
    "### Optional - Obtain some properties of the selected Oxide solution  \n",
    "Name, formulas of endmembers, molecular weights of endmembers, abbreviation, number of endmember components, names of endmembers"
   ]
  },
  {
   "cell_type": "code",
   "execution_count": null,
   "metadata": {},
   "outputs": [],
   "source": [
    "print (Mag.props['phase_name'])\n",
    "print ('Num of endmembers: ', Mag.props['endmember_num'])\n",
    "print (Mag.props['formula'])\n",
    "print (Mag.props['endmember_name'])\n",
    "print ()\n",
    "print (Ilm.props['phase_name'])\n",
    "print ('Num of endmembers: ', Ilm.props['endmember_num'])\n",
    "print (Ilm.props['formula'])\n",
    "print (Ilm.props['endmember_name'])"
   ]
  },
  {
   "cell_type": "markdown",
   "metadata": {},
   "source": [
    "## Step 1 - Input compositions of oxide pairs"
   ]
  },
  {
   "cell_type": "code",
   "execution_count": null,
   "metadata": {},
   "outputs": [],
   "source": [
    "case = 1"
   ]
  },
  {
   "cell_type": "markdown",
   "metadata": {},
   "source": [
    "- case 0: Brad's composition\n",
    "- case 1: Oxide pair from website geothermometer"
   ]
  },
  {
   "cell_type": "code",
   "execution_count": null,
   "metadata": {},
   "outputs": [],
   "source": [
    "if case == 0:\n",
    "    Mag_mol_oxides = thermo.chem.format_mol_oxide_comp(\n",
    "        {'SiO2':0.0, 'TiO2':4.15, 'Al2O3':2.83, 'Fe2O3':57.89, 'FeO':32.48, \n",
    "        'MnO':0.35, 'MgO':1.0, 'CaO':0.0, 'Na2O':0.0, 'Cr2O3':0.07},convert_grams_to_moles=True)\n",
    "    Ilm_mol_oxides = thermo.chem.format_mol_oxide_comp(\n",
    "        {'SiO2':0, 'TiO2':37.27, 'Al2O3':0.29, 'Fe2O3':29.62,'FeO':29.19, \n",
    "        'MnO':0.39, 'MgO':2.0, 'CaO':0.0, 'Na2O':0.0, 'Cr2O3':0.01},convert_grams_to_moles=True)\n",
    "else: # example from website, gives 724 °C, 1.61 delta NNO 0.894 a TiO2\n",
    "    Mag_mol_oxides = thermo.chem.format_mol_oxide_comp(\n",
    "        {'SiO2':0.0, 'TiO2':4.35, 'Al2O3':1.94, 'Fe2O3':0.00, 'Cr2O3':0.18, 'FeO':86.34, \n",
    "        'MnO':0.44, 'MgO':1.2, 'CaO':0.0, 'Na2O':0.0},convert_grams_to_moles=True)\n",
    "    Ilm_mol_oxides = thermo.chem.format_mol_oxide_comp(\n",
    "        {'SiO2':0.0, 'TiO2':28.73, 'Al2O3':0.35, 'Fe2O3':0.00, 'Cr2O3':0.0, 'FeO':65.98, \n",
    "        'MnO':0.23, 'MgO':1.02, 'CaO':0.0, 'Na2O':0.0},convert_grams_to_moles=True)"
   ]
  },
  {
   "cell_type": "markdown",
   "metadata": {},
   "source": [
    "## Step 2 - Convert analytical composition to moles of endmember components\n",
    "Note that a method - *test_endmember_comp()* - is called to test the validity of the projected composition  \n",
    "Also note that the \"intrinsic\" conversion routines now take care of FeO-Fe2O3 conversion to balance the cation-anion ratio of the phase.  Input compositions of Fe2O3 and/or FeO are adjusted to balance charge and maintain phase stoichiometry."
   ]
  },
  {
   "cell_type": "code",
   "execution_count": null,
   "metadata": {},
   "outputs": [],
   "source": [
    "def validate_endmember_comp(moles_end, phase):\n",
    "    print(phase.props['phase_name'])\n",
    "    sum = 0.0\n",
    "    for i in range(0,phase.props['endmember_num']):\n",
    "        print (\"mole number of {0:10.10s} = {1:13.8f}\".format(\n",
    "            phase.props['endmember_name'][i], moles_end[i]))\n",
    "        sum += moles_end[i]\n",
    "    if not phase.test_endmember_comp(moles_end):\n",
    "        print (\"Calculated composition is infeasible!\")\n",
    "        \n",
    "Mag_moles_end = Mag.calc_endmember_comp(\n",
    "    mol_oxide_comp=Mag_mol_oxides, method='intrinsic', normalize=True)\n",
    "validate_endmember_comp(Mag_moles_end, Mag)\n",
    "print()\n",
    "Ilm_moles_end = Ilm.calc_endmember_comp(\n",
    "    mol_oxide_comp=Ilm_mol_oxides, method='intrinsic', normalize=True)\n",
    "validate_endmember_comp(Ilm_moles_end, Ilm)"
   ]
  },
  {
   "cell_type": "markdown",
   "metadata": {},
   "source": [
    "# Implement a Fe-Ti oxide geothermometer.\n",
    "## Consider Fe-Ti exchange between oxides\n",
    "### Rhom(Ilm) + Spinel(Mag) = Spinel (Ulv) + Rhom(Hm)\n",
    "### FeTiO3 + Fe3O4 = Fe2TiO4 + Fe2O3\n",
    "Fix the pressure at 2000 bars"
   ]
  },
  {
   "cell_type": "code",
   "execution_count": null,
   "metadata": {},
   "outputs": [],
   "source": [
    "P = 2000.0"
   ]
  },
  {
   "cell_type": "markdown",
   "metadata": {},
   "source": [
    "## Corection terms from Ghiorso and Evans (2008) that modify the MELTS models \n",
    "### Correction terms for ulvospinel derived in Ghiorso and Evans (2008)"
   ]
  },
  {
   "cell_type": "code",
   "execution_count": null,
   "metadata": {},
   "outputs": [],
   "source": [
    "def UlvCorr(t, correctReaction=True):\n",
    "    tr = 298.15\n",
    "    h = - 162.0 + 284.5\n",
    "    s = 0.0\n",
    "    if correctReaction:\n",
    "        h += 2039.106175 \n",
    "        s +=    1.247790\n",
    "    l1 = - 0.039452*np.sqrt(4.184)\n",
    "    l2 = 7.54197e-5*np.sqrt(4.184)\n",
    "    h = h + 0.5*l1*l1*(t*t-tr*tr) + (2.0/3.0)*l1*l2*(t*t*t - tr*tr*tr) + 0.25*l2*l2*(t*t*t*t - tr*tr*tr*tr)\n",
    "    s = s + l1*l1*(t - tr) + l1*l2*(t*t - tr*tr) + (1.0/3.0)*l2*l2*(t*t*t - tr*tr*tr)\n",
    "    return h - t*s"
   ]
  },
  {
   "cell_type": "markdown",
   "metadata": {},
   "source": [
    "### Ghiorso and Evans (2008) used the Vinet integral; MELTS uses the Berman integral\n",
    "We must substract the latter from computed chemical potentials and add in the former."
   ]
  },
  {
   "cell_type": "code",
   "execution_count": null,
   "metadata": {},
   "outputs": [],
   "source": [
    "def BermanVint(t, p, v0, v1, v2, v3, v4):\n",
    "    pr = 1.0\n",
    "    tr = 298.15\n",
    "    return v0*((v1/2.0-v2)*(p*p-pr*pr)+v2*(p*p*p-pr*pr*pr)/3.0 + (1.0-v1+v2+v3*(t-tr)+v4*(t-tr)*(t-tr))*(p-pr))\n",
    "def VinetVint(t, p, v0, alpha, K, Kp):\n",
    "    eta = 3.0*(Kp-1.0)/2.0\n",
    "    x   = 1.0\n",
    "    x0  = 1.0\n",
    "    pr  = 1.0\n",
    "    tr  = 298.15\n",
    "    \n",
    "    iter = 0\n",
    "    while True:\n",
    "        fn = x*x*(p/10000.0) - 3.0*K*(1.0-x)*np.exp(eta*(1.0-x)) - x*x*alpha*K*(t-tr)\n",
    "        dfn = 2.0*x*(p/10000.0) + 3.0*K*(1.0+eta*(1.0-x))*np.exp(eta*(1.0-x)) - 2.0*alpha*K*(t-tr)\n",
    "        x = x - fn/dfn\n",
    "        iter += 1\n",
    "        if ((iter > 500) or (fn*fn < 1.0e-15)):\n",
    "            break\n",
    "    # print (iter, x)\n",
    "    \n",
    "    iter = 0\n",
    "    while True:\n",
    "        fn = x0*x0*(pr/10000.0) - 3.0*K*(1.0-x0)*np.exp(eta*(1.0-x0)) - x0*x0*alpha*K*(t-tr)\n",
    "        dfn = 2.0*x0*(pr/10000.0) + 3.0*K*(1.0+eta*(1.0-x0))*np.exp(eta*(1.0-x0)) - 2.0*alpha*K*(t-tr)\n",
    "        x0 = x0 - fn/dfn\n",
    "        iter += 1\n",
    "        if ((iter > 500) or (fn*fn < 1.0e-15)):\n",
    "            break\n",
    "    # print (iter, x0)\n",
    "    \n",
    "    a  = (9.0*v0*K/(eta*eta))*(1.0 - eta*(1.0-x))*np.exp(eta*(1.0-x))\n",
    "    a += v0*(t-tr)*K*alpha*(x*x*x - 1.0) - 9.0*v0*K/(eta*eta)\n",
    "    a -= (9.0*v0*K/(eta*eta))*(1.0 - eta*(1.0-x0))*np.exp(eta*(1.0-x0))\n",
    "    a -= v0*(t-tr)*K*alpha*(x0*x0*x0 - 1.0) - 9.0*v0*K/(eta*eta)\n",
    "    \n",
    "    return -a*10000.0 + p*v0*x*x*x - pr*v0*x0*x0*x0"
   ]
  },
  {
   "cell_type": "markdown",
   "metadata": {},
   "source": [
    "### Berman integral for the reaction FeTiO3 + Fe3O4 = Fe2TiO4 + Fe2O3"
   ]
  },
  {
   "cell_type": "code",
   "execution_count": null,
   "metadata": {},
   "outputs": [],
   "source": [
    "def rBerVint(T, P):\n",
    "    vIntBerMag = BermanVint(T, P, 4.452, -0.582E-6, 1.751E-12, 30.291E-6, 138.470E-10)\n",
    "    vIntBerUlv = BermanVint(T, P, 4.682, 0.0, 0.0, 0.0, 0.0)\n",
    "    vIntBerHem = BermanVint(T, P, 3.027, -0.479e-6, 0.304e-12, 38.310e-6, 1.650e-10)\n",
    "    vIntBerIlm = BermanVint(T, P, 3.170, -0.584e-6, 1.230e-12, 27.248e-6, 29.968e-10)\n",
    "    return vIntBerUlv + vIntBerHem - vIntBerMag -vIntBerIlm"
   ]
  },
  {
   "cell_type": "markdown",
   "metadata": {},
   "source": [
    "### Vinet integral for the reaction FeTiO3 + Fe3O4 = Fe2TiO4 + Fe2O3"
   ]
  },
  {
   "cell_type": "code",
   "execution_count": null,
   "metadata": {},
   "outputs": [],
   "source": [
    "def rVinetVint(T, P):\n",
    "    vIntVinetMag = VinetVint(T, P, 4.452, 30.291E-6, 171.821, 9.3387)\n",
    "    vIntVinetUlv = VinetVint(T, P, 4.682, 30.291E-6, 171.821, 9.3387)\n",
    "    vIntVinetHem = VinetVint(T, P, 3.027, 38.310E-6, 208.768, 1.64992)\n",
    "    vIntVinetIlm = VinetVint(T, P, 3.170, 27.248E-6, 171.233, 6.21289)\n",
    "    return vIntVinetUlv + vIntVinetHem - vIntVinetMag - vIntVinetIlm"
   ]
  },
  {
   "cell_type": "markdown",
   "metadata": {},
   "source": [
    "### This method computes the free energy of the exchange reaction ..."
   ]
  },
  {
   "cell_type": "code",
   "execution_count": null,
   "metadata": {},
   "outputs": [],
   "source": [
    "def deltaG(T, P, mag_mols, ilm_mols):\n",
    "    muMag = Mag.chem_potential(T, P, mol=mag_mols, endmember=2)\n",
    "    muUlv = Mag.chem_potential(T, P, mol=mag_mols, endmember=4) + UlvCorr(T)\n",
    "    muIlm = Ilm.chem_potential(T, P, mol=ilm_mols, endmember=2)\n",
    "    muHem = Ilm.chem_potential(T, P, mol=ilm_mols, endmember=1)\n",
    "    deltaG = muUlv + muHem - muIlm - muMag - rBerVint(T, P) + rVinetVint(T, P)\n",
    "    return deltaG"
   ]
  },
  {
   "cell_type": "markdown",
   "metadata": {},
   "source": [
    "### This next function is used by the minimizer to zero the free energy of the exchange reaction ..."
   ]
  },
  {
   "cell_type": "code",
   "execution_count": null,
   "metadata": {},
   "outputs": [],
   "source": [
    "def boundary(P, Tlims, deltaG, mag_mols, ilm_mols):\n",
    "    Afun = lambda T, P=P: deltaG(T, P, mag_mols, ilm_mols)\n",
    "    Tbound = optim.brentq(Afun, Tlims[0], Tlims[1])\n",
    "    return Tbound"
   ]
  },
  {
   "cell_type": "markdown",
   "metadata": {},
   "source": [
    "### Calculate the equilibrium temperature for this oxide pair ..."
   ]
  },
  {
   "cell_type": "code",
   "execution_count": null,
   "metadata": {},
   "outputs": [],
   "source": [
    "Teq = boundary(P, [500.,2000.], deltaG, Mag_moles_end, Ilm_moles_end)\n",
    "print('Equilibrium Temp = ', Teq-273.15, ' °C')"
   ]
  },
  {
   "cell_type": "markdown",
   "metadata": {},
   "source": [
    "## Calculate Oxygen fugacity from the reaction \n",
    "\n",
    "### O2 + 4 Fe3O4 = 6 Fe2O3\n",
    "\n",
    "Note that the properties of oxygen are defined here for consistency instead of using the built-in functions.  \n",
    "Also note that the chemical potentials of hematite and magnetite are adjusted to remove the Berman-type volume integrals and replace them with the Vinet-type volume integrals to be consistent with Ghiorso and Evans (2008)"
   ]
  },
  {
   "cell_type": "code",
   "execution_count": null,
   "metadata": {},
   "outputs": [],
   "source": [
    "def muO2(t, p):\n",
    "    tr = 298.15\n",
    "    hs = 23.10248*(t-tr) + 2.0*804.8876*(np.sqrt(t)-np.sqrt(tr)) - 1762835.0*(1.0/t-1.0/tr) \\\n",
    "       - 18172.91960*np.log(t/tr) + 0.5*0.002676*(t*t-tr*tr)\n",
    "    ss = 205.15 + 23.10248*np.log(t/tr)  - 2.0*804.8876*(1.0/np.sqrt(t)-1.0/np.sqrt(tr)) \\\n",
    "       - 0.5*1762835.0*(1.0/(t*t)-1.0/(tr*tr)) + 18172.91960*(1.0/t-1.0/tr) + 0.002676*(t-tr)\n",
    "    return hs - t*ss\n",
    "def deltaNNO (T, P, mag_mols, ilm_mols):\n",
    "    muHem  = Ilm.chem_potential(T, P, mol=ilm_mols, endmember=1)\n",
    "    muHem -= BermanVint(T, P, 3.027, -0.479e-6, 0.304e-12, 38.310e-6, 1.650e-10)\n",
    "    muHem += VinetVint(T, P, 3.027, 38.310E-6, 208.768, 1.64992)\n",
    "    muMag =  Mag.chem_potential(T, P, mol=mag_mols, endmember=2)\n",
    "    muMag -= BermanVint(T, P, 4.452, -0.582E-6, 1.751E-12, 30.291E-6, 138.470E-10)\n",
    "    muMag += VinetVint(T, P, 4.452, 30.291E-6, 171.821, 9.3387)\n",
    "    muOxy  = muO2(T, P)\n",
    "    logfO2 = (6.0*muHem - 4.0*muMag -  muOxy)/(8.3144598*T)/np.log(10.0)\n",
    "    return logfO2 - (-25018.7/T + 12.981 + 0.046*(P-1.0)/Teq -0.5117*np.log(T))"
   ]
  },
  {
   "cell_type": "markdown",
   "metadata": {},
   "source": [
    "### Calculate the equilibrium oxygen fugacity for this oxide pair ..."
   ]
  },
  {
   "cell_type": "code",
   "execution_count": null,
   "metadata": {},
   "outputs": [],
   "source": [
    "print(deltaNNO(Teq, P, Mag_moles_end, Ilm_moles_end))"
   ]
  },
  {
   "cell_type": "markdown",
   "metadata": {},
   "source": [
    "## Calculate the temperature for Fe-Mg exchange\n",
    "### FeAl2O4 (hercynite) + MgTiO3 (geikielite) = MgAl2O4 (spinel) + FeTiO3 (ilmenite)\n",
    "The method below is used by the minimizer to evaluate the free energy change of the Fe-Mg exchange reaction ..."
   ]
  },
  {
   "cell_type": "code",
   "execution_count": null,
   "metadata": {},
   "outputs": [],
   "source": [
    "def deltaGfemg(T, P, mag_mols, ilm_mols):\n",
    "    muSpn  = Mag.chem_potential(T, P, mol=mag_mols, endmember=3)\n",
    "    muSpn -= BermanVint(T, P, 3.977, -0.489E-6, 0.0, 21.691E-6, 50.528E-10)\n",
    "    muSpn += VinetVint(T, P, 3.977, 21.691E-6, 204.499, 4.0)\n",
    "    \n",
    "    muHer  = Mag.chem_potential(T, P, mol=mag_mols, endmember=1)\n",
    "    muHer -= BermanVint(T, P, 0.973948*4.184, 0.0, 0.0, 0.0, 0.0)\n",
    "    muHer += VinetVint(T, P, 0.973948*4.184, 21.691E-6, 204.499, 4.0)\n",
    "    \n",
    "    muIlm  = Ilm.chem_potential(T, P, mol=ilm_mols, endmember=2)\n",
    "    muIlm -= BermanVint(T, P, 3.170, -0.584e-6, 1.230e-12, 27.248e-6, 29.968e-10)\n",
    "    muIlm += VinetVint(T, P, 3.170, 27.248E-6, 171.233, 6.21289)\n",
    "    \n",
    "    muGei  = Ilm.chem_potential(T, P, mol=ilm_mols, endmember=0)\n",
    "    muGei -= BermanVint(T, P, 3.086, -0.584e-6, 1.230e-12, 27.248e-6, 29.968e-10)\n",
    "    muGei += VinetVint(T, P, 3.086, 27.2476341e-6, 171.240, 6.21527)\n",
    "    \n",
    "    deltaG = muSpn + muIlm - muHer - muGei\n",
    "    return deltaG"
   ]
  },
  {
   "cell_type": "markdown",
   "metadata": {},
   "source": [
    "Compute the Fe-Mg exchange temperature (if possible) ..."
   ]
  },
  {
   "cell_type": "code",
   "execution_count": null,
   "metadata": {},
   "outputs": [],
   "source": [
    "Tlow  = deltaGfemg(500.0, P, Mag_moles_end, Ilm_moles_end)\n",
    "Thigh = deltaGfemg(2000.0, P, Mag_moles_end, Ilm_moles_end)\n",
    "if np.sign(Tlow) != np.sign(Thigh):\n",
    "    Tfemg = boundary(P, [500.,2000.], deltaGfemg, Mag_moles_end, Ilm_moles_end)\n",
    "    print('Fe-Mg Equilibrium Temp = ', Tfemg-273.15, ' °C')\n",
    "else:\n",
    "    print('No Fe-Mg equilibration temperature found.')"
   ]
  },
  {
   "cell_type": "markdown",
   "metadata": {},
   "source": [
    "## Calculate the activity of TiO2 relative to rutile saturation "
   ]
  },
  {
   "cell_type": "code",
   "execution_count": null,
   "metadata": {},
   "outputs": [],
   "source": [
    "Rut = modelDB.get_phase('Rt')\n",
    "def aTiO2(T, P, mag_mols, ilm_mols):\n",
    "    muUlv  = Mag.chem_potential(T, P, mol=mag_mols, endmember=4) + UlvCorr(T, correctReaction=False)\n",
    "    muUlv -= BermanVint(T, P, 4.682, 0.0, 0.0, 0.0, 0.0)\n",
    "    muUlv += VinetVint(T, P, 4.682, 30.291E-6, 171.821, 9.3387)\n",
    "    muIlm  = Ilm.chem_potential(T, P, mol=ilm_mols, endmember=2)\n",
    "    muIlm -= BermanVint(T, P, 3.170, -0.584e-6, 1.230e-12, 27.248e-6, 29.968e-10)\n",
    "    muIlm += VinetVint(T, P, 3.170, 27.248E-6, 171.233, 6.21289)\n",
    "    muRut = Rut.chem_potential(T, P)\n",
    "    return np.exp(-(muRut+muUlv-2.0*muIlm)/(8.3143*T))"
   ]
  },
  {
   "cell_type": "code",
   "execution_count": null,
   "metadata": {},
   "outputs": [],
   "source": [
    "aTiO2(Teq, P, Mag_moles_end, Ilm_moles_end)"
   ]
  },
  {
   "cell_type": "code",
   "execution_count": null,
   "metadata": {},
   "outputs": [],
   "source": []
  }
 ],
 "metadata": {
  "anaconda-cloud": {},
  "kernelspec": {
   "display_name": "Python 3",
   "language": "python",
   "name": "python3"
  },
  "language_info": {
   "codemirror_mode": {
    "name": "ipython",
    "version": 3
   },
   "file_extension": ".py",
   "mimetype": "text/x-python",
   "name": "python",
   "nbconvert_exporter": "python",
   "pygments_lexer": "ipython3",
   "version": "3.7.3"
  }
 },
 "nbformat": 4,
 "nbformat_minor": 4
}
